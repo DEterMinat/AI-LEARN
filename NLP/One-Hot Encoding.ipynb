{
 "cells": [
  {
   "cell_type": "code",
   "execution_count": 2,
   "metadata": {},
   "outputs": [
    {
     "name": "stdout",
     "output_type": "stream",
     "text": [
      "Requirement already satisfied: pythainlp[full] in c:\\users\\tanakit siriteerapan\\appdata\\local\\programs\\python\\python312\\lib\\site-packages (5.0.1)\n",
      "Requirement already satisfied: requests>=2.22.0 in c:\\users\\tanakit siriteerapan\\appdata\\local\\programs\\python\\python312\\lib\\site-packages (from pythainlp[full]) (2.31.0)\n",
      "Requirement already satisfied: tzdata in c:\\users\\tanakit siriteerapan\\appdata\\local\\programs\\python\\python312\\lib\\site-packages (from pythainlp[full]) (2023.4)\n",
      "Requirement already satisfied: PyYAML>=5.3.1 in c:\\users\\tanakit siriteerapan\\appdata\\local\\programs\\python\\python312\\lib\\site-packages (from pythainlp[full]) (6.0.1)\n",
      "Collecting attacut>=1.0.4 (from pythainlp[full])\n",
      "  Downloading attacut-1.0.6-py3-none-any.whl.metadata (4.0 kB)\n",
      "Collecting emoji>=0.5.1 (from pythainlp[full])\n",
      "  Using cached emoji-2.10.1-py2.py3-none-any.whl.metadata (5.3 kB)\n",
      "Collecting epitran>=1.1 (from pythainlp[full])\n",
      "  Using cached epitran-1.24-py2.py3-none-any.whl.metadata (34 kB)\n",
      "Collecting fairseq>=0.10.0 (from pythainlp[full])\n",
      "  Using cached fairseq-0.12.2.tar.gz (9.6 MB)\n",
      "  Installing build dependencies: started\n",
      "  Installing build dependencies: finished with status 'done'\n",
      "  Getting requirements to build wheel: started\n",
      "  Getting requirements to build wheel: finished with status 'done'\n",
      "  Installing backend dependencies: started\n",
      "  Installing backend dependencies: finished with status 'done'\n",
      "  Preparing metadata (pyproject.toml): started\n",
      "  Preparing metadata (pyproject.toml): finished with status 'done'\n",
      "Collecting gensim>=4.0.0 (from pythainlp[full])\n",
      "  Using cached gensim-4.3.2.tar.gz (23.3 MB)\n",
      "  Installing build dependencies: started\n",
      "  Installing build dependencies: finished with status 'done'\n",
      "  Getting requirements to build wheel: started\n",
      "  Getting requirements to build wheel: finished with status 'done'\n",
      "  Preparing metadata (pyproject.toml): started\n",
      "  Preparing metadata (pyproject.toml): finished with status 'done'\n",
      "Requirement already satisfied: nltk>=3.3 in c:\\users\\tanakit siriteerapan\\appdata\\local\\programs\\python\\python312\\lib\\site-packages (from pythainlp[full]) (3.8.1)\n",
      "Requirement already satisfied: numpy>=1.22 in c:\\users\\tanakit siriteerapan\\appdata\\local\\programs\\python\\python312\\lib\\site-packages (from pythainlp[full]) (1.26.4)\n",
      "Requirement already satisfied: pandas>=0.24 in c:\\users\\tanakit siriteerapan\\appdata\\local\\programs\\python\\python312\\lib\\site-packages (from pythainlp[full]) (2.2.0)\n",
      "Collecting pyicu>=2.3 (from pythainlp[full])\n",
      "  Using cached PyICU-2.12.tar.gz (260 kB)\n",
      "  Installing build dependencies: started\n",
      "  Installing build dependencies: finished with status 'done'\n",
      "  Getting requirements to build wheel: started\n",
      "  Getting requirements to build wheel: finished with status 'error'\n"
     ]
    },
    {
     "name": "stderr",
     "output_type": "stream",
     "text": [
      "  error: subprocess-exited-with-error\n",
      "  \n",
      "  × Getting requirements to build wheel did not run successfully.\n",
      "  │ exit code: 1\n",
      "  ╰─> [66 lines of output]\n",
      "      (running 'icu-config --version')\n",
      "      (running 'pkg-config --modversion icu-i18n')\n",
      "      Traceback (most recent call last):\n",
      "        File \"<string>\", line 89, in <module>\n",
      "        File \"<frozen os>\", line 685, in __getitem__\n",
      "      KeyError: 'ICU_VERSION'\n",
      "      \n",
      "      During handling of the above exception, another exception occurred:\n",
      "      \n",
      "      Traceback (most recent call last):\n",
      "        File \"<string>\", line 92, in <module>\n",
      "        File \"<string>\", line 19, in check_output\n",
      "        File \"C:\\Users\\Tanakit Siriteerapan\\AppData\\Local\\Programs\\Python\\Python312\\Lib\\subprocess.py\", line 466, in check_output\n",
      "          return run(*popenargs, stdout=PIPE, timeout=timeout, check=True,\n",
      "                 ^^^^^^^^^^^^^^^^^^^^^^^^^^^^^^^^^^^^^^^^^^^^^^^^^^^^^^^^^\n",
      "        File \"C:\\Users\\Tanakit Siriteerapan\\AppData\\Local\\Programs\\Python\\Python312\\Lib\\subprocess.py\", line 548, in run\n",
      "          with Popen(*popenargs, **kwargs) as process:\n",
      "               ^^^^^^^^^^^^^^^^^^^^^^^^^^^\n",
      "        File \"C:\\Users\\Tanakit Siriteerapan\\AppData\\Local\\Programs\\Python\\Python312\\Lib\\subprocess.py\", line 1026, in __init__\n",
      "          self._execute_child(args, executable, preexec_fn, close_fds,\n",
      "        File \"C:\\Users\\Tanakit Siriteerapan\\AppData\\Local\\Programs\\Python\\Python312\\Lib\\subprocess.py\", line 1538, in _execute_child\n",
      "          hp, ht, pid, tid = _winapi.CreateProcess(executable, args,\n",
      "                             ^^^^^^^^^^^^^^^^^^^^^^^^^^^^^^^^^^^^^^^\n",
      "      FileNotFoundError: [WinError 2] The system cannot find the file specified\n",
      "      \n",
      "      During handling of the above exception, another exception occurred:\n",
      "      \n",
      "      Traceback (most recent call last):\n",
      "        File \"<string>\", line 96, in <module>\n",
      "        File \"<string>\", line 19, in check_output\n",
      "        File \"C:\\Users\\Tanakit Siriteerapan\\AppData\\Local\\Programs\\Python\\Python312\\Lib\\subprocess.py\", line 466, in check_output\n",
      "          return run(*popenargs, stdout=PIPE, timeout=timeout, check=True,\n",
      "                 ^^^^^^^^^^^^^^^^^^^^^^^^^^^^^^^^^^^^^^^^^^^^^^^^^^^^^^^^^\n",
      "        File \"C:\\Users\\Tanakit Siriteerapan\\AppData\\Local\\Programs\\Python\\Python312\\Lib\\subprocess.py\", line 548, in run\n",
      "          with Popen(*popenargs, **kwargs) as process:\n",
      "               ^^^^^^^^^^^^^^^^^^^^^^^^^^^\n",
      "        File \"C:\\Users\\Tanakit Siriteerapan\\AppData\\Local\\Programs\\Python\\Python312\\Lib\\subprocess.py\", line 1026, in __init__\n",
      "          self._execute_child(args, executable, preexec_fn, close_fds,\n",
      "        File \"C:\\Users\\Tanakit Siriteerapan\\AppData\\Local\\Programs\\Python\\Python312\\Lib\\subprocess.py\", line 1538, in _execute_child\n",
      "          hp, ht, pid, tid = _winapi.CreateProcess(executable, args,\n",
      "                             ^^^^^^^^^^^^^^^^^^^^^^^^^^^^^^^^^^^^^^^\n",
      "      FileNotFoundError: [WinError 2] The system cannot find the file specified\n",
      "      \n",
      "      During handling of the above exception, another exception occurred:\n",
      "      \n",
      "      Traceback (most recent call last):\n",
      "        File \"C:\\Users\\Tanakit Siriteerapan\\AppData\\Local\\Programs\\Python\\Python312\\Lib\\site-packages\\pip\\_vendor\\pyproject_hooks\\_in_process\\_in_process.py\", line 353, in <module>\n",
      "          main()\n",
      "        File \"C:\\Users\\Tanakit Siriteerapan\\AppData\\Local\\Programs\\Python\\Python312\\Lib\\site-packages\\pip\\_vendor\\pyproject_hooks\\_in_process\\_in_process.py\", line 335, in main\n",
      "          json_out['return_val'] = hook(**hook_input['kwargs'])\n",
      "                                   ^^^^^^^^^^^^^^^^^^^^^^^^^^^^\n",
      "        File \"C:\\Users\\Tanakit Siriteerapan\\AppData\\Local\\Programs\\Python\\Python312\\Lib\\site-packages\\pip\\_vendor\\pyproject_hooks\\_in_process\\_in_process.py\", line 118, in get_requires_for_build_wheel\n",
      "          return hook(config_settings)\n",
      "                 ^^^^^^^^^^^^^^^^^^^^^\n",
      "        File \"C:\\Users\\Tanakit Siriteerapan\\AppData\\Local\\Temp\\pip-build-env-j4dg20xh\\overlay\\Lib\\site-packages\\setuptools\\build_meta.py\", line 325, in get_requires_for_build_wheel\n",
      "          return self._get_build_requires(config_settings, requirements=['wheel'])\n",
      "                 ^^^^^^^^^^^^^^^^^^^^^^^^^^^^^^^^^^^^^^^^^^^^^^^^^^^^^^^^^^^^^^^^^\n",
      "        File \"C:\\Users\\Tanakit Siriteerapan\\AppData\\Local\\Temp\\pip-build-env-j4dg20xh\\overlay\\Lib\\site-packages\\setuptools\\build_meta.py\", line 295, in _get_build_requires\n",
      "          self.run_setup()\n",
      "        File \"C:\\Users\\Tanakit Siriteerapan\\AppData\\Local\\Temp\\pip-build-env-j4dg20xh\\overlay\\Lib\\site-packages\\setuptools\\build_meta.py\", line 311, in run_setup\n",
      "          exec(code, locals())\n",
      "        File \"<string>\", line 99, in <module>\n",
      "      RuntimeError:\n",
      "      Please install pkg-config on your system or set the ICU_VERSION environment\n",
      "      variable to the version of ICU you have installed.\n",
      "      \n",
      "      [end of output]\n",
      "  \n",
      "  note: This error originates from a subprocess, and is likely not a problem with pip.\n",
      "error: subprocess-exited-with-error\n",
      "\n",
      "× Getting requirements to build wheel did not run successfully.\n",
      "│ exit code: 1\n",
      "╰─> See above for output.\n",
      "\n",
      "note: This error originates from a subprocess, and is likely not a problem with pip.\n"
     ]
    }
   ],
   "source": [
    "!pip install pythainlp[full]"
   ]
  },
  {
   "cell_type": "code",
   "execution_count": 3,
   "metadata": {},
   "outputs": [],
   "source": [
    "text =  ['ที่พักสวย วิวดี',\n",
    "         'วิวสวย ที่พักดีงาม']"
   ]
  },
  {
   "cell_type": "code",
   "execution_count": 4,
   "metadata": {},
   "outputs": [],
   "source": [
    "from pythainlp.tokenize import word_tokenize\n"
   ]
  },
  {
   "cell_type": "code",
   "execution_count": 7,
   "metadata": {},
   "outputs": [
    {
     "name": "stdout",
     "output_type": "stream",
     "text": [
      "['ที่พัก', 'สวย', ' ', 'วิ', 'วดี']\n",
      "['วิว', 'สวย', ' ', 'ที่พัก', 'ดีงาม']\n"
     ]
    }
   ],
   "source": [
    "text_tokens = [word_tokenize(text = sent , engine='newmm') for sent in text]\n",
    "for tk in text_tokens : \n",
    "    print(tk)"
   ]
  },
  {
   "cell_type": "code",
   "execution_count": null,
   "metadata": {},
   "outputs": [],
   "source": []
  }
 ],
 "metadata": {
  "kernelspec": {
   "display_name": "Python 3",
   "language": "python",
   "name": "python3"
  },
  "language_info": {
   "codemirror_mode": {
    "name": "ipython",
    "version": 3
   },
   "file_extension": ".py",
   "mimetype": "text/x-python",
   "name": "python",
   "nbconvert_exporter": "python",
   "pygments_lexer": "ipython3",
   "version": "3.12.2"
  }
 },
 "nbformat": 4,
 "nbformat_minor": 2
}
