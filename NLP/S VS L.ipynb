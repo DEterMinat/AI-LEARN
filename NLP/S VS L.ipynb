{
 "cells": [
  {
   "cell_type": "code",
   "execution_count": 10,
   "metadata": {},
   "outputs": [
    {
     "name": "stderr",
     "output_type": "stream",
     "text": [
      "[nltk_data] Downloading package wordnet to C:\\Users\\Tanakit\n",
      "[nltk_data]     Siriteerapan\\AppData\\Roaming\\nltk_data...\n",
      "[nltk_data]   Package wordnet is already up-to-date!\n"
     ]
    }
   ],
   "source": [
    "import nltk\n",
    "nltk.download('wordnet')\n",
    "from nltk.stem.porter import PorterStemmer\n",
    "from nltk.stem.wordnet import WordNetLemmatizer\n",
    "porter_stemmer = PorterStemmer()\n",
    "wordnet_lemma = WordNetLemmatizer()"
   ]
  },
  {
   "cell_type": "code",
   "execution_count": 11,
   "metadata": {},
   "outputs": [],
   "source": [
    "def display_lemma_poiter(text):\n",
    "    print(f\"{'word':<12}\\t{'lemma':<12}\\t{'stem':<12}\")\n",
    "    print('-'*50)\n",
    "    for word in text:\n",
    "        print(f'{word:12}\\t{wordnet_lemma.lemmatize(word):12}\\t{porter_stemmer.stem(word):12}\\t{porter_stemmer.stem(word):12}')"
   ]
  },
  {
   "cell_type": "code",
   "execution_count": 12,
   "metadata": {},
   "outputs": [
    {
     "name": "stdout",
     "output_type": "stream",
     "text": [
      "word        \tlemma       \tstem        \n",
      "--------------------------------------------------\n",
      "foot        \tfoot        \tfoot        \tfoot        \n",
      "feet        \tfoot        \tfeet        \tfeet        \n",
      "foots       \tfoot        \tfoot        \tfoot        \n",
      "footing     \tfooting     \tfoot        \tfoot        \n"
     ]
    }
   ],
   "source": [
    "word_list = ['foot','feet','foots','footing']\n",
    "display_lemma_poiter(word_list)"
   ]
  }
 ],
 "metadata": {
  "kernelspec": {
   "display_name": "Python 3",
   "language": "python",
   "name": "python3"
  },
  "language_info": {
   "codemirror_mode": {
    "name": "ipython",
    "version": 3
   },
   "file_extension": ".py",
   "mimetype": "text/x-python",
   "name": "python",
   "nbconvert_exporter": "python",
   "pygments_lexer": "ipython3",
   "version": "3.12.2"
  }
 },
 "nbformat": 4,
 "nbformat_minor": 2
}
