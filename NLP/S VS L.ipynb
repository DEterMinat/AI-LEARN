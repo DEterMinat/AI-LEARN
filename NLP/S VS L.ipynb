{
 "cells": [
  {
   "cell_type": "code",
   "execution_count": null,
   "metadata": {},
   "outputs": [],
   "source": [
    "import nltk\n",
    "nltk.download('wordnet')\n",
    "from nltk.stem.porter import PorterStemmer\n",
    "from nltk.stem.wordnet import WordNetLemmatizer\n",
    "porter_stemmer = PorterStemmer()\n",
    "wordnet_lemma = WordNetLemmatizer()"
   ]
  },
  {
   "cell_type": "code",
   "execution_count": null,
   "metadata": {},
   "outputs": [],
   "source": [
    "def display_lemma_poiter(text):\n",
    "    print(f\"{'word':<12}\\t{'lemma':<12}\\t{'stem':<12}\")\n",
    "    print('-'*50)\n",
    "    for word in text:\n",
    "        print(f'{word:12}\\t{wordnet_lemma.lemmatize(word):12}\\t{pointer_stemmer.stem(word):12}\\t{pointer_stemmer.stem(word):12}')"
   ]
  }
 ],
 "metadata": {
  "language_info": {
   "name": "python"
  }
 },
 "nbformat": 4,
 "nbformat_minor": 2
}
