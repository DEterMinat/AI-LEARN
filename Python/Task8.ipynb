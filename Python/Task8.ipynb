{
 "cells": [
  {
   "cell_type": "code",
   "execution_count": 6,
   "metadata": {},
   "outputs": [
    {
     "name": "stdout",
     "output_type": "stream",
     "text": [
      "Custommer name:Diw\n",
      "Custommer name:Wiw\n",
      "Custommer name:God\n",
      "Custommer name:Bank\n",
      "Custommer name:Bow\n"
     ]
    }
   ],
   "source": [
    "Custommer = [\"Diw\",\"Wiw\",\"God\",\"Bank\",\"Bow\"]\n",
    "for i in Custommer:\n",
    "    print(\"Custommer name:\"+i)"
   ]
  },
  {
   "cell_type": "code",
   "execution_count": 8,
   "metadata": {},
   "outputs": [
    {
     "name": "stdout",
     "output_type": "stream",
     "text": [
      "Custommer name:Diw\n",
      "Custommer name:Wiw\n",
      "Custommer name:God\n",
      "Custommer name:Bank\n",
      "Custommer name:Bow\n"
     ]
    }
   ],
   "source": [
    "i = 0\n",
    "while (i < len(Custommer)):\n",
    "    print(\"Custommer name:\"+Custommer[i])\n",
    "    i = i + 1"
   ]
  }
 ],
 "metadata": {
  "kernelspec": {
   "display_name": "Python 3",
   "language": "python",
   "name": "python3"
  },
  "language_info": {
   "codemirror_mode": {
    "name": "ipython",
    "version": 3
   },
   "file_extension": ".py",
   "mimetype": "text/x-python",
   "name": "python",
   "nbconvert_exporter": "python",
   "pygments_lexer": "ipython3",
   "version": "3.12.2"
  }
 },
 "nbformat": 4,
 "nbformat_minor": 2
}
