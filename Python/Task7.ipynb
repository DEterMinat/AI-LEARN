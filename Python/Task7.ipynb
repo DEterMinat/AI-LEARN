{
 "cells": [
  {
   "cell_type": "code",
   "execution_count": null,
   "metadata": {},
   "outputs": [],
   "source": [
    "import datetime"
   ]
  },
  {
   "cell_type": "code",
   "execution_count": null,
   "metadata": {},
   "outputs": [],
   "source": [
    "# Get user's birthday\n",
    "birthday = input(\"Enter your birthday (DD/MM/YYYY format): \")\n",
    "\n",
    "# Convert birthday to datetime format\n",
    "birthday = datetime.strptime(birthday, \" %D / %M / %Y\")"
   ]
  },
  {
   "cell_type": "code",
   "execution_count": null,
   "metadata": {},
   "outputs": [],
   "source": [
    "today = datetime.today()\n",
    "if birthday.month == today.month and birthday.day == today.day:\n",
    "    # Happy birthday message\n",
    "    print(\"Happy Birthday!\")\n",
    "elif birthday.month == today.month:\n",
    "    # Early birthday message\n",
    "    days_remaining = birthday.day - today.day\n",
    "    print(\"Happy early birthday! You have\", days_remaining, \"days left.\")\n",
    "elif birthday.month < today.month:\n",
    "    # Belated birthday message\n",
    "    age = today.year - birthday.year\n",
    "    print(\"Happy belated birthday! You are\", age, \"years old this year.\")\n",
    "else:\n",
    "    # Invalid birthday message\n",
    "    print(\"Invalid birthday information.\")"
   ]
  }
 ],
 "metadata": {
  "kernelspec": {
   "display_name": "Python 3",
   "language": "python",
   "name": "python3"
  },
  "language_info": {
   "codemirror_mode": {
    "name": "ipython",
    "version": 3
   },
   "file_extension": ".py",
   "mimetype": "text/x-python",
   "name": "python",
   "nbconvert_exporter": "python",
   "pygments_lexer": "ipython3",
   "version": "3.12.2"
  }
 },
 "nbformat": 4,
 "nbformat_minor": 2
}
