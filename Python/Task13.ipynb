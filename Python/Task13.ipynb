{
 "cells": [
  {
   "cell_type": "code",
   "execution_count": 69,
   "metadata": {},
   "outputs": [],
   "source": [
    "from datetime import datetime\n",
    "\n",
    "class Account :\n",
    "    def __init__(self, numId):\n",
    "        self.number =  numId\n",
    "        self.account_type()\n",
    "        \n",
    "    def account_type(self):\n",
    "        if str(self.number).startswith(\"1\"):\n",
    "           self.type = \"Correct\"\n",
    "        elif str(self.number).startswith(\"2\"):\n",
    "           self.type = \"Savings\"\n",
    "           \n",
    "    def interest_rate(self):\n",
    "        if self.type ==\"Correct\":\n",
    "            self.interest_rate = 0\n",
    "        elif self.type ==\"Savings\":\n",
    "            self.interest_rate = 5 \n",
    "            \n",
    "        return self.interest_rate\n",
    "    \n",
    "    def interest_accrued(self):\n",
    "        self.interest_rate()\n",
    "        self.balance = 1000\n",
    "        \n",
    "        current_date = datetime.today()\n",
    "        beginning_data = datetime(current_date.year,1,1)\n",
    "        \n",
    "        self.interest_accrued = self.balance * (abs(current_date-beginning_data).days / 365) * self.interest_rate / 100\n",
    "        \n",
    "        return self.interest_accrued + self.balance"
   ]
  },
  {
   "cell_type": "code",
   "execution_count": 70,
   "metadata": {},
   "outputs": [],
   "source": [
    "acc = Account(2002)"
   ]
  },
  {
   "cell_type": "code",
   "execution_count": 71,
   "metadata": {},
   "outputs": [
    {
     "data": {
      "text/plain": [
       "'Savings'"
      ]
     },
     "execution_count": 71,
     "metadata": {},
     "output_type": "execute_result"
    }
   ],
   "source": [
    "acc.type"
   ]
  },
  {
   "cell_type": "code",
   "execution_count": 72,
   "metadata": {},
   "outputs": [
    {
     "data": {
      "text/plain": [
       "1006.1643835616438"
      ]
     },
     "execution_count": 72,
     "metadata": {},
     "output_type": "execute_result"
    }
   ],
   "source": [
    "acc.interest_accrued()"
   ]
  },
  {
   "cell_type": "code",
   "execution_count": null,
   "metadata": {},
   "outputs": [],
   "source": []
  },
  {
   "cell_type": "code",
   "execution_count": null,
   "metadata": {},
   "outputs": [],
   "source": []
  }
 ],
 "metadata": {
  "kernelspec": {
   "display_name": "Python 3",
   "language": "python",
   "name": "python3"
  },
  "language_info": {
   "name": "python",
   "version": "3.12.2"
  }
 },
 "nbformat": 4,
 "nbformat_minor": 2
}
